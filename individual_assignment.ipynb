{
  "nbformat": 4,
  "nbformat_minor": 0,
  "metadata": {
    "colab": {
      "name": "individual_assignment.ipynb",
      "version": "0.3.2",
      "provenance": [],
      "collapsed_sections": [],
      "toc_visible": true
    },
    "kernelspec": {
      "name": "python3",
      "display_name": "Python 3"
    },
    "accelerator": "GPU"
  },
  "cells": [
    {
      "metadata": {
        "id": "YsCqRTKFHjbF",
        "colab_type": "text"
      },
      "cell_type": "markdown",
      "source": [
        "# Predicting horror authors - the data\n",
        "\n",
        "First off, we will import the libraries we need. This is mostly Keras stuff, but also sklearn for train_test split and label encoding.\n",
        "\n",
        "I also define a numPy random seed. I chose this before doing any work on the notebook, and the reason for doing it, is that it enables consistent results. If I did not set it, the model predictions would be different every time."
      ]
    },
    {
      "metadata": {
        "id": "AhZfm_ciuG10",
        "colab_type": "code",
        "colab": {}
      },
      "cell_type": "code",
      "source": [
        "import pandas as pd\n",
        "import numpy as np\n",
        "\n",
        "from collections import defaultdict\n",
        "\n",
        "import keras\n",
        "import keras.backend as K\n",
        "from keras.layers import Dense, GlobalAveragePooling1D, Embedding, LSTM, Input, Bidirectional, Dropout, Flatten\n",
        "from keras.callbacks import EarlyStopping\n",
        "from keras.models import Sequential, Model\n",
        "from keras.preprocessing.sequence import pad_sequences\n",
        "from keras.preprocessing.text import Tokenizer\n",
        "from keras.utils import to_categorical\n",
        "\n",
        "import matplotlib.pyplot as plt\n",
        "import seaborn as sns\n",
        "\n",
        "from sklearn.model_selection import train_test_split\n",
        "from sklearn.preprocessing import LabelEncoder\n",
        "labelencoder = LabelEncoder()\n",
        "\n",
        "np.random.seed(7)"
      ],
      "execution_count": 0,
      "outputs": []
    },
    {
      "metadata": {
        "id": "clVz8dflH0Kr",
        "colab_type": "text"
      },
      "cell_type": "markdown",
      "source": [
        "I will then download the train and test data from Github."
      ]
    },
    {
      "metadata": {
        "id": "Kr66lMM5xjmc",
        "colab_type": "code",
        "colab": {
          "base_uri": "https://localhost:8080/",
          "height": 391
        },
        "outputId": "ea144ec5-5030-440e-9e80-ef17fd9e8fc9"
      },
      "cell_type": "code",
      "source": [
        "!wget https://raw.githubusercontent.com/SDS-AAU/M3-2018/master/assignments/individual/data/train.csv\n",
        "!wget https://raw.githubusercontent.com/SDS-AAU/M3-2018/master/assignments/individual/data/test.csv"
      ],
      "execution_count": 66,
      "outputs": [
        {
          "output_type": "stream",
          "text": [
            "--2018-11-12 16:41:03--  https://raw.githubusercontent.com/SDS-AAU/M3-2018/master/assignments/individual/data/train.csv\n",
            "Resolving raw.githubusercontent.com (raw.githubusercontent.com)... 151.101.0.133, 151.101.64.133, 151.101.128.133, ...\n",
            "Connecting to raw.githubusercontent.com (raw.githubusercontent.com)|151.101.0.133|:443... connected.\n",
            "HTTP request sent, awaiting response... 200 OK\n",
            "Length: 3295644 (3.1M) [text/plain]\n",
            "Saving to: ‘train.csv.1’\n",
            "\n",
            "\rtrain.csv.1           0%[                    ]       0  --.-KB/s               \rtrain.csv.1         100%[===================>]   3.14M  --.-KB/s    in 0.04s   \n",
            "\n",
            "2018-11-12 16:41:04 (71.1 MB/s) - ‘train.csv.1’ saved [3295644/3295644]\n",
            "\n",
            "--2018-11-12 16:41:06--  https://raw.githubusercontent.com/SDS-AAU/M3-2018/master/assignments/individual/data/test.csv\n",
            "Resolving raw.githubusercontent.com (raw.githubusercontent.com)... 151.101.0.133, 151.101.64.133, 151.101.128.133, ...\n",
            "Connecting to raw.githubusercontent.com (raw.githubusercontent.com)|151.101.0.133|:443... connected.\n",
            "HTTP request sent, awaiting response... 200 OK\n",
            "Length: 1351241 (1.3M) [text/plain]\n",
            "Saving to: ‘test.csv.1’\n",
            "\n",
            "test.csv.1          100%[===================>]   1.29M  --.-KB/s    in 0.04s   \n",
            "\n",
            "2018-11-12 16:41:06 (32.6 MB/s) - ‘test.csv.1’ saved [1351241/1351241]\n",
            "\n"
          ],
          "name": "stdout"
        }
      ]
    },
    {
      "metadata": {
        "id": "CFGPcVaFH9I4",
        "colab_type": "text"
      },
      "cell_type": "markdown",
      "source": [
        "Let's import the data we just downloaded into a couple of DataFrames."
      ]
    },
    {
      "metadata": {
        "id": "RQ_iT9ePx1BU",
        "colab_type": "code",
        "colab": {}
      },
      "cell_type": "code",
      "source": [
        "train_data = pd.read_csv('train.csv')\n",
        "test_data = pd.read_csv('test.csv')"
      ],
      "execution_count": 0,
      "outputs": []
    },
    {
      "metadata": {
        "id": "Shs-2oGHyBId",
        "colab_type": "code",
        "colab": {
          "base_uri": "https://localhost:8080/",
          "height": 204
        },
        "outputId": "b86c42e4-07bc-4acd-a391-0afe2aecb19d"
      },
      "cell_type": "code",
      "source": [
        "train_data.head()"
      ],
      "execution_count": 68,
      "outputs": [
        {
          "output_type": "execute_result",
          "data": {
            "text/html": [
              "<div>\n",
              "<style scoped>\n",
              "    .dataframe tbody tr th:only-of-type {\n",
              "        vertical-align: middle;\n",
              "    }\n",
              "\n",
              "    .dataframe tbody tr th {\n",
              "        vertical-align: top;\n",
              "    }\n",
              "\n",
              "    .dataframe thead th {\n",
              "        text-align: right;\n",
              "    }\n",
              "</style>\n",
              "<table border=\"1\" class=\"dataframe\">\n",
              "  <thead>\n",
              "    <tr style=\"text-align: right;\">\n",
              "      <th></th>\n",
              "      <th>id</th>\n",
              "      <th>text</th>\n",
              "      <th>author</th>\n",
              "    </tr>\n",
              "  </thead>\n",
              "  <tbody>\n",
              "    <tr>\n",
              "      <th>0</th>\n",
              "      <td>id26305</td>\n",
              "      <td>This process, however, afforded me no means of...</td>\n",
              "      <td>EAP</td>\n",
              "    </tr>\n",
              "    <tr>\n",
              "      <th>1</th>\n",
              "      <td>id17569</td>\n",
              "      <td>It never once occurred to me that the fumbling...</td>\n",
              "      <td>HPL</td>\n",
              "    </tr>\n",
              "    <tr>\n",
              "      <th>2</th>\n",
              "      <td>id11008</td>\n",
              "      <td>In his left hand was a gold snuff box, from wh...</td>\n",
              "      <td>EAP</td>\n",
              "    </tr>\n",
              "    <tr>\n",
              "      <th>3</th>\n",
              "      <td>id27763</td>\n",
              "      <td>How lovely is spring As we looked from Windsor...</td>\n",
              "      <td>MWS</td>\n",
              "    </tr>\n",
              "    <tr>\n",
              "      <th>4</th>\n",
              "      <td>id12958</td>\n",
              "      <td>Finding nothing else, not even gold, the Super...</td>\n",
              "      <td>HPL</td>\n",
              "    </tr>\n",
              "  </tbody>\n",
              "</table>\n",
              "</div>"
            ],
            "text/plain": [
              "        id                                               text author\n",
              "0  id26305  This process, however, afforded me no means of...    EAP\n",
              "1  id17569  It never once occurred to me that the fumbling...    HPL\n",
              "2  id11008  In his left hand was a gold snuff box, from wh...    EAP\n",
              "3  id27763  How lovely is spring As we looked from Windsor...    MWS\n",
              "4  id12958  Finding nothing else, not even gold, the Super...    HPL"
            ]
          },
          "metadata": {
            "tags": []
          },
          "execution_count": 68
        }
      ]
    },
    {
      "metadata": {
        "id": "FaPtHjgqyDFd",
        "colab_type": "code",
        "colab": {
          "base_uri": "https://localhost:8080/",
          "height": 204
        },
        "outputId": "4d50da63-55db-4e76-de58-5880a63dde49"
      },
      "cell_type": "code",
      "source": [
        "test_data.head()"
      ],
      "execution_count": 69,
      "outputs": [
        {
          "output_type": "execute_result",
          "data": {
            "text/html": [
              "<div>\n",
              "<style scoped>\n",
              "    .dataframe tbody tr th:only-of-type {\n",
              "        vertical-align: middle;\n",
              "    }\n",
              "\n",
              "    .dataframe tbody tr th {\n",
              "        vertical-align: top;\n",
              "    }\n",
              "\n",
              "    .dataframe thead th {\n",
              "        text-align: right;\n",
              "    }\n",
              "</style>\n",
              "<table border=\"1\" class=\"dataframe\">\n",
              "  <thead>\n",
              "    <tr style=\"text-align: right;\">\n",
              "      <th></th>\n",
              "      <th>id</th>\n",
              "      <th>text</th>\n",
              "    </tr>\n",
              "  </thead>\n",
              "  <tbody>\n",
              "    <tr>\n",
              "      <th>0</th>\n",
              "      <td>id02310</td>\n",
              "      <td>Still, as I urged our leaving Ireland with suc...</td>\n",
              "    </tr>\n",
              "    <tr>\n",
              "      <th>1</th>\n",
              "      <td>id24541</td>\n",
              "      <td>If a fire wanted fanning, it could readily be ...</td>\n",
              "    </tr>\n",
              "    <tr>\n",
              "      <th>2</th>\n",
              "      <td>id00134</td>\n",
              "      <td>And when they had broken down the frail door t...</td>\n",
              "    </tr>\n",
              "    <tr>\n",
              "      <th>3</th>\n",
              "      <td>id27757</td>\n",
              "      <td>While I was thinking how I should possibly man...</td>\n",
              "    </tr>\n",
              "    <tr>\n",
              "      <th>4</th>\n",
              "      <td>id04081</td>\n",
              "      <td>I am not sure to what limit his knowledge may ...</td>\n",
              "    </tr>\n",
              "  </tbody>\n",
              "</table>\n",
              "</div>"
            ],
            "text/plain": [
              "        id                                               text\n",
              "0  id02310  Still, as I urged our leaving Ireland with suc...\n",
              "1  id24541  If a fire wanted fanning, it could readily be ...\n",
              "2  id00134  And when they had broken down the frail door t...\n",
              "3  id27757  While I was thinking how I should possibly man...\n",
              "4  id04081  I am not sure to what limit his knowledge may ..."
            ]
          },
          "metadata": {
            "tags": []
          },
          "execution_count": 69
        }
      ]
    },
    {
      "metadata": {
        "id": "ReBMB7cVIZym",
        "colab_type": "text"
      },
      "cell_type": "markdown",
      "source": [
        "As we can see, the training data consists of an id, the text and author, while the test data has no information about author."
      ]
    },
    {
      "metadata": {
        "id": "mkD98vHBWD3L",
        "colab_type": "text"
      },
      "cell_type": "markdown",
      "source": [
        "# Keras tokenizer, MLP, FastText and LSTM"
      ]
    },
    {
      "metadata": {
        "id": "sdpggucDIkR3",
        "colab_type": "text"
      },
      "cell_type": "markdown",
      "source": [
        "The first approach I will use is the built in Tokenizer in Keras. This is a fast, but relatively dumb technique for vectorizing the sentences. It basically creates a unique integer for each word, leaving out commas, punctuation and special characters by default.\n",
        "\n",
        "First off, let's convert our authors to something our ML models can use with labelencoder. I then convert them to a binary representation using the `to_categorical` function from Keras."
      ]
    },
    {
      "metadata": {
        "id": "Z63lnscPyIsr",
        "colab_type": "code",
        "colab": {}
      },
      "cell_type": "code",
      "source": [
        "y = labelencoder.fit_transform(train_data.author)\n",
        "y = to_categorical(y)"
      ],
      "execution_count": 0,
      "outputs": []
    },
    {
      "metadata": {
        "id": "xGocnl76J8w0",
        "colab_type": "text"
      },
      "cell_type": "markdown",
      "source": [
        "Below, I define a preprocessing function. This uses Tokenizer to convert our text. Please note the `filters`, where the excluded characters are defined. Also note that I pad the sequences to the same length, with a maximum length of 256. This can be experimented with as one pleases.\n",
        "\n",
        "One thing that changes the result a surprising amount is setting lowercase to True and including punctuation. This is probably because the different authors have different punctuation and capitalization styles."
      ]
    },
    {
      "metadata": {
        "id": "tgWdvwfWyo7J",
        "colab_type": "code",
        "colab": {}
      },
      "cell_type": "code",
      "source": [
        "def preprocess(df, lowercase=False):\n",
        "  tokenizer = Tokenizer(lower=lowercase, filters='!\"#$%&()*+,-./:;<=>?@[\\]^_`{|}~')\n",
        "  tokenizer.fit_on_texts(df.text)\n",
        "  docs = tokenizer.texts_to_sequences(df.text)\n",
        "  docs = pad_sequences(sequences=docs, maxlen=256)\n",
        "  \n",
        "  return docs"
      ],
      "execution_count": 0,
      "outputs": []
    },
    {
      "metadata": {
        "id": "4QntXYDaKoRD",
        "colab_type": "text"
      },
      "cell_type": "markdown",
      "source": [
        "Let's use the preprocess function on our actual training data."
      ]
    },
    {
      "metadata": {
        "id": "z9LFR6dzFlxR",
        "colab_type": "code",
        "colab": {}
      },
      "cell_type": "code",
      "source": [
        "train_text = preprocess(train_data)"
      ],
      "execution_count": 0,
      "outputs": []
    },
    {
      "metadata": {
        "id": "Rks6WTUfJ0ty",
        "colab_type": "code",
        "colab": {
          "base_uri": "https://localhost:8080/",
          "height": 136
        },
        "outputId": "d19751b1-570d-4bd5-c9b0-64cf3805008e"
      },
      "cell_type": "code",
      "source": [
        "train_text"
      ],
      "execution_count": 73,
      "outputs": [
        {
          "output_type": "execute_result",
          "data": {
            "text/plain": [
              "array([[    0,     0,     0, ...,    97,     1,   448],\n",
              "       [    0,     0,     0, ...,     6,   438,  2393],\n",
              "       [    0,     0,     0, ...,   359,   497,  2732],\n",
              "       ...,\n",
              "       [    0,     0,     0, ...,    98, 16754, 16332],\n",
              "       [    0,     0,     0, ...,    60,  9670,   550],\n",
              "       [    0,     0,     0, ...,     9,     2,  6145]], dtype=int32)"
            ]
          },
          "metadata": {
            "tags": []
          },
          "execution_count": 73
        }
      ]
    },
    {
      "metadata": {
        "id": "cnAPr_wAKvKS",
        "colab_type": "text"
      },
      "cell_type": "markdown",
      "source": [
        "As you can see, the words in the sentences are now represented with an integer. This is fine for now. Let's split it up into our training and testing data using the usual train_test_split with a 20% split."
      ]
    },
    {
      "metadata": {
        "id": "q7zMnVxU2nnB",
        "colab_type": "code",
        "colab": {}
      },
      "cell_type": "code",
      "source": [
        "x_train, x_test, y_train, y_test = train_test_split(train_text, y, test_size=0.2)"
      ],
      "execution_count": 0,
      "outputs": []
    },
    {
      "metadata": {
        "id": "YCJzCkEJx4wU",
        "colab_type": "text"
      },
      "cell_type": "markdown",
      "source": [
        "## MLP"
      ]
    },
    {
      "metadata": {
        "id": "BSHePterLCoh",
        "colab_type": "text"
      },
      "cell_type": "markdown",
      "source": [
        "The first Neural Network I will use is a Densely Connected Neural Network, much like the ones from the Datacamp course on Deep Learning. In this case, I use the `adam` optimizer and a `relu` activation function for each layer until the output, where I use `softmax` to better represent the outliers. Since we are categorizing, I use `categorical_crossentropy` for my loss function. All of these can be experimented with of cause.\n",
        "I also set the `kernel_initializer` to `he_normal`. The default in Keras, `glorot_uniform`, did not perform as well, so I just left it at the best performning one. `kernel_initializer` sets the initial random weights for the network layers.\n",
        "\n",
        "I also add a Dropout layer for each Dense layer. In my case, I freeze 20% of the neurons for each epoch, thereby introducing some randomness and help prevent overfitting.\n",
        "\n",
        "Also, instead of directly defining my models, I wrap them in functions. This enables me to reuse the code later."
      ]
    },
    {
      "metadata": {
        "id": "YZ55cyduyDHV",
        "colab_type": "code",
        "colab": {}
      },
      "cell_type": "code",
      "source": [
        "def mlp_model(input_dim, optimizer='adam'):\n",
        "  model = Sequential()\n",
        "  # Densely Connected Neural Network (Multi-Layer Perceptron)\n",
        "  model.add(Dense(512, activation='relu', kernel_initializer='he_normal', input_dim=input_dim))\n",
        "  model.add(Dropout(0.2))\n",
        "  model.add(Dense(512, activation='relu', kernel_initializer='he_normal'))\n",
        "  model.add(Dropout(0.2))\n",
        "  model.add(Dense(512, activation='relu', kernel_initializer='he_normal'))\n",
        "  model.add(Dropout(0.2))\n",
        "  model.add(Dense(512, activation='relu', kernel_initializer='he_normal'))\n",
        "  model.add(Dropout(0.2))\n",
        "  model.add(Dense(3, activation='softmax'))\n",
        "  \n",
        "  model.compile(loss='categorical_crossentropy', optimizer=optimizer, metrics=['accuracy'])\n",
        "  \n",
        "  return model"
      ],
      "execution_count": 0,
      "outputs": []
    },
    {
      "metadata": {
        "id": "tUNWkyAMMyAz",
        "colab_type": "text"
      },
      "cell_type": "markdown",
      "source": [
        "Next, I set the input dimensions for the model. This is simply the x-shape of my training text vector. I also use the function defined above, and put the model into the `model_mlp` variable."
      ]
    },
    {
      "metadata": {
        "id": "88M0SfdqyYsw",
        "colab_type": "code",
        "colab": {}
      },
      "cell_type": "code",
      "source": [
        "input_dim = train_text.shape[1]\n",
        "model_mlp = mlp_model(input_dim)"
      ],
      "execution_count": 0,
      "outputs": []
    },
    {
      "metadata": {
        "id": "I2rFMmsrNHvd",
        "colab_type": "text"
      },
      "cell_type": "markdown",
      "source": [
        "Let's now try to fit the model! Here, I use 25 epochs, which in itself takes a bit of time. Luckely, I have defined an EarlyStopping monitor, so it will probably not run for all 25 of them ;)"
      ]
    },
    {
      "metadata": {
        "id": "zdJ90BVpyhTL",
        "colab_type": "code",
        "colab": {
          "base_uri": "https://localhost:8080/",
          "height": 136
        },
        "outputId": "aecdf43b-4069-4b81-e6bb-2faf83ae38c0"
      },
      "cell_type": "code",
      "source": [
        "epochs = 25\n",
        "\n",
        "hist_mlp = model_mlp.fit(x_train, y_train, batch_size=16, validation_data=(x_test, y_test), epochs=epochs, callbacks=[EarlyStopping(patience=2, monitor='val_loss')])"
      ],
      "execution_count": 77,
      "outputs": [
        {
          "output_type": "stream",
          "text": [
            "Train on 15663 samples, validate on 3916 samples\n",
            "Epoch 1/25\n",
            "15663/15663 [==============================] - 10s 660us/step - loss: 11.1642 - acc: 0.3073 - val_loss: 11.0431 - val_acc: 0.3149\n",
            "Epoch 2/25\n",
            "15663/15663 [==============================] - 9s 592us/step - loss: 11.1663 - acc: 0.3072 - val_loss: 11.0431 - val_acc: 0.3149\n",
            "Epoch 3/25\n",
            "15663/15663 [==============================] - 9s 593us/step - loss: 11.1683 - acc: 0.3071 - val_loss: 11.0431 - val_acc: 0.3149\n"
          ],
          "name": "stdout"
        }
      ]
    },
    {
      "metadata": {
        "id": "Koavp6lnNRc8",
        "colab_type": "text"
      },
      "cell_type": "markdown",
      "source": [
        "I will now plot the history of the epochs. I again define a function for this so I can use it later. This function will plot the model accuracy and loss for each epoch, making it very easy to visualize improvements."
      ]
    },
    {
      "metadata": {
        "id": "Otx8q7Px10lC",
        "colab_type": "code",
        "colab": {}
      },
      "cell_type": "code",
      "source": [
        "def plot_history(hist):\n",
        "  plt.style.use('seaborn')\n",
        "\n",
        "  # summarize history for accuracy\n",
        "  plt.plot(hist.history['acc'])\n",
        "  plt.plot(hist.history['val_acc'])\n",
        "  plt.title('model accuracy')\n",
        "  plt.ylabel('accuracy')\n",
        "  plt.xlabel('epoch')\n",
        "  plt.legend(['train', 'test'], loc='upper left')\n",
        "  plt.show()\n",
        "  # summarize history for loss\n",
        "  plt.plot(hist.history['loss'])\n",
        "  plt.plot(hist.history['val_loss'])\n",
        "  plt.title('model loss')\n",
        "  plt.ylabel('loss')\n",
        "  plt.xlabel('epoch')\n",
        "  plt.legend(['train', 'test'], loc='upper left')\n",
        "  plt.show()"
      ],
      "execution_count": 0,
      "outputs": []
    },
    {
      "metadata": {
        "id": "Yo394o_b149c",
        "colab_type": "code",
        "colab": {
          "base_uri": "https://localhost:8080/",
          "height": 735
        },
        "outputId": "cb98ad3e-f030-43c6-f6a7-a7d1f4e21b68"
      },
      "cell_type": "code",
      "source": [
        "plot_history(hist_mlp)"
      ],
      "execution_count": 79,
      "outputs": [
        {
          "output_type": "display_data",
          "data": {
            "image/png": "[encoded data removed]",
            "text/plain": [
              "<matplotlib.figure.Figure at 0x7f9970bc5320>"
            ]
          },
          "metadata": {
            "tags": []
          }
        },
        {
          "output_type": "display_data",
          "data": {
            "image/png": "[encoded data removed]",
            "text/plain": [
              "<matplotlib.figure.Figure at 0x7f99729f6a90>"
            ]
          },
          "metadata": {
            "tags": []
          }
        }
      ]
    },
    {
      "metadata": {
        "id": "avmjhxB6m_Et",
        "colab_type": "text"
      },
      "cell_type": "markdown",
      "source": [
        "The progress with this model was pretty slow, as you can see on the graphs. The EarlyStopping monitor also triggered early because the loss didn't improve. The test accuracy and loss flatlined in the last two epochs. I tried experiementing with more nodes on the middle layers, and alternative optimizers like SGD, but none of them improved the results significantly. I simply think this type of network doesn't respond very well to the way I have preprocessed the data in this case."
      ]
    },
    {
      "metadata": {
        "id": "moef0O2kuBH2",
        "colab_type": "text"
      },
      "cell_type": "markdown",
      "source": [
        "## FastText Model"
      ]
    },
    {
      "metadata": {
        "id": "i8zYVNIVRgDe",
        "colab_type": "text"
      },
      "cell_type": "markdown",
      "source": [
        "Below, I define the FastText model I will use for prediction and classification. I chose to create a function for this, such that I can reuse this code later on.\n",
        "\n",
        "Here, I am using several new layer types. \n",
        "* One is called the Embedding layer. In the code below, it is the first layer added to my model (an embedding layer can only be the first layer of the model). This layer essentially functions as a trainable lookup table for the entire dataset. It offers speedups, but also enables better performance in some cases.\n",
        "* The next layer is the GlobalAveragePooling1D, which will average the embeddings created earlier. This enables the model to, among others, see the connections between the X and the Y in a performant manner.\n",
        "* Lastly, I define 3 output layers because I have 3 possible authors.\n",
        "\n",
        "\n",
        "\n"
      ]
    },
    {
      "metadata": {
        "id": "NmFaUzMIPjCm",
        "colab_type": "code",
        "colab": {}
      },
      "cell_type": "code",
      "source": [
        "def fasttext_model(input_dim, embedding_dims=20, optimizer='adam'):\n",
        "  model = Sequential()\n",
        "  \n",
        "  model.add(Embedding(input_dim=input_dim, output_dim=embedding_dims))\n",
        "  \n",
        "  # Here I add a GlobalAveragePooling1D, which will average the embeddings of all words in the document\n",
        "  model.add(GlobalAveragePooling1D())\n",
        "  \n",
        "  # I project the results to the final layer of the model, consisting of 3 nodes representing each of our authors.\n",
        "  # In this case, I chose to use softmax for squashing.\n",
        "  model.add(Dense(3, activation='softmax'))\n",
        "  \n",
        "  model.compile(loss='categorical_crossentropy', optimizer=optimizer, metrics=['accuracy'])\n",
        "  \n",
        "  return model"
      ],
      "execution_count": 0,
      "outputs": []
    },
    {
      "metadata": {
        "id": "4OHbWRmESVka",
        "colab_type": "text"
      },
      "cell_type": "markdown",
      "source": [
        "I will now use the model we defined above. I set the input dimensions to be the maximum value in any of the sequenced rows (and +1 to compensate for zero-indexing)."
      ]
    },
    {
      "metadata": {
        "id": "_tw7xrJrQvB6",
        "colab_type": "code",
        "colab": {}
      },
      "cell_type": "code",
      "source": [
        "input_dim = np.max(train_text) + 1\n",
        "model_fasttext = fasttext_model(input_dim)"
      ],
      "execution_count": 0,
      "outputs": []
    },
    {
      "metadata": {
        "id": "TgjSD20rO6GY",
        "colab_type": "text"
      },
      "cell_type": "markdown",
      "source": [
        "Now, let's fit the model."
      ]
    },
    {
      "metadata": {
        "id": "N8NQRGGk2fLM",
        "colab_type": "code",
        "colab": {
          "base_uri": "https://localhost:8080/",
          "height": 850
        },
        "outputId": "6b34baad-7f98-418a-c032-764dfe399037"
      },
      "cell_type": "code",
      "source": [
        "epochs = 25\n",
        "\n",
        "hist_fasttext = model_fasttext.fit(x_train, y_train, batch_size=16, validation_data=(x_test, y_test), epochs=epochs, callbacks=[EarlyStopping(patience=2, monitor='val_loss')])"
      ],
      "execution_count": 82,
      "outputs": [
        {
          "output_type": "stream",
          "text": [
            "Train on 15663 samples, validate on 3916 samples\n",
            "Epoch 1/25\n",
            "15663/15663 [==============================] - 7s 464us/step - loss: 1.0787 - acc: 0.4029 - val_loss: 1.0616 - val_acc: 0.4073\n",
            "Epoch 2/25\n",
            "15663/15663 [==============================] - 6s 411us/step - loss: 1.0160 - acc: 0.4865 - val_loss: 0.9675 - val_acc: 0.5398\n",
            "Epoch 3/25\n",
            "15663/15663 [==============================] - 6s 409us/step - loss: 0.8900 - acc: 0.6501 - val_loss: 0.8467 - val_acc: 0.6609\n",
            "Epoch 4/25\n",
            "15663/15663 [==============================] - 6s 406us/step - loss: 0.7626 - acc: 0.7371 - val_loss: 0.7484 - val_acc: 0.7352\n",
            "Epoch 5/25\n",
            "15663/15663 [==============================] - 6s 408us/step - loss: 0.6579 - acc: 0.7850 - val_loss: 0.6739 - val_acc: 0.7352\n",
            "Epoch 6/25\n",
            "15663/15663 [==============================] - 6s 406us/step - loss: 0.5748 - acc: 0.8155 - val_loss: 0.6142 - val_acc: 0.7717\n",
            "Epoch 7/25\n",
            "15663/15663 [==============================] - 6s 406us/step - loss: 0.5082 - acc: 0.8394 - val_loss: 0.5702 - val_acc: 0.7781\n",
            "Epoch 8/25\n",
            "15663/15663 [==============================] - 6s 411us/step - loss: 0.4525 - acc: 0.8577 - val_loss: 0.5355 - val_acc: 0.7983\n",
            "Epoch 9/25\n",
            "15663/15663 [==============================] - 6s 409us/step - loss: 0.4058 - acc: 0.8757 - val_loss: 0.5043 - val_acc: 0.8013\n",
            "Epoch 10/25\n",
            "15663/15663 [==============================] - 6s 406us/step - loss: 0.3654 - acc: 0.8893 - val_loss: 0.4772 - val_acc: 0.8123\n",
            "Epoch 11/25\n",
            "15663/15663 [==============================] - 6s 407us/step - loss: 0.3310 - acc: 0.9023 - val_loss: 0.4552 - val_acc: 0.8210\n",
            "Epoch 12/25\n",
            "15663/15663 [==============================] - 6s 408us/step - loss: 0.3008 - acc: 0.9124 - val_loss: 0.4392 - val_acc: 0.8238\n",
            "Epoch 13/25\n",
            "15663/15663 [==============================] - 6s 408us/step - loss: 0.2751 - acc: 0.9185 - val_loss: 0.4282 - val_acc: 0.8253\n",
            "Epoch 14/25\n",
            "15663/15663 [==============================] - 6s 408us/step - loss: 0.2511 - acc: 0.9267 - val_loss: 0.4187 - val_acc: 0.8325\n",
            "Epoch 15/25\n",
            "15663/15663 [==============================] - 6s 406us/step - loss: 0.2311 - acc: 0.9339 - val_loss: 0.4032 - val_acc: 0.8412\n",
            "Epoch 16/25\n",
            "15663/15663 [==============================] - 6s 408us/step - loss: 0.2117 - acc: 0.9395 - val_loss: 0.4114 - val_acc: 0.8309\n",
            "Epoch 17/25\n",
            "15663/15663 [==============================] - 6s 405us/step - loss: 0.1962 - acc: 0.9436 - val_loss: 0.3960 - val_acc: 0.8371\n",
            "Epoch 18/25\n",
            "15663/15663 [==============================] - 6s 411us/step - loss: 0.1815 - acc: 0.9483 - val_loss: 0.3885 - val_acc: 0.8401\n",
            "Epoch 19/25\n",
            "15663/15663 [==============================] - 6s 408us/step - loss: 0.1685 - acc: 0.9514 - val_loss: 0.3839 - val_acc: 0.8470\n",
            "Epoch 20/25\n",
            "15663/15663 [==============================] - 6s 406us/step - loss: 0.1560 - acc: 0.9558 - val_loss: 0.3831 - val_acc: 0.8422\n",
            "Epoch 21/25\n",
            "15663/15663 [==============================] - 6s 407us/step - loss: 0.1449 - acc: 0.9594 - val_loss: 0.3910 - val_acc: 0.8447\n",
            "Epoch 22/25\n",
            "15663/15663 [==============================] - 6s 407us/step - loss: 0.1351 - acc: 0.9631 - val_loss: 0.3766 - val_acc: 0.8412\n",
            "Epoch 23/25\n",
            "15663/15663 [==============================] - 6s 407us/step - loss: 0.1250 - acc: 0.9669 - val_loss: 0.3836 - val_acc: 0.8424\n",
            "Epoch 24/25\n",
            "15663/15663 [==============================] - 6s 409us/step - loss: 0.1168 - acc: 0.9679 - val_loss: 0.3783 - val_acc: 0.8435\n"
          ],
          "name": "stdout"
        }
      ]
    },
    {
      "metadata": {
        "id": "XAUaR0iuwt9U",
        "colab_type": "text"
      },
      "cell_type": "markdown",
      "source": [
        "That's a pretty solid accuracy! I will now plot the results again to illustrate the models learning curve."
      ]
    },
    {
      "metadata": {
        "id": "P_12d37h1949",
        "colab_type": "code",
        "colab": {
          "base_uri": "https://localhost:8080/",
          "height": 735
        },
        "outputId": "ef8b11ba-70e2-437e-e594-c091e202c2fa"
      },
      "cell_type": "code",
      "source": [
        "plot_history(hist_fasttext)"
      ],
      "execution_count": 83,
      "outputs": [
        {
          "output_type": "display_data",
          "data": {
            "image/png": "[encoded data removed]",
            "text/plain": [
              "<matplotlib.figure.Figure at 0x7f9970a67c50>"
            ]
          },
          "metadata": {
            "tags": []
          }
        },
        {
          "output_type": "display_data",
          "data": {
            "image/png": "[encoded data removed]",
            "text/plain": [
              "<matplotlib.figure.Figure at 0x7f9972a6ec50>"
            ]
          },
          "metadata": {
            "tags": []
          }
        }
      ]
    },
    {
      "metadata": {
        "id": "zaYh2EOMw5eB",
        "colab_type": "text"
      },
      "cell_type": "markdown",
      "source": [
        "The loss and accuracy curve here is pretty normal. The accuracy goes up and the loss goes down very fast in the start, and then settles off at the last epochs."
      ]
    },
    {
      "metadata": {
        "id": "NssT5dTOuFHH",
        "colab_type": "text"
      },
      "cell_type": "markdown",
      "source": [
        "## LSTM Model"
      ]
    },
    {
      "metadata": {
        "id": "S6NPb0LruHQP",
        "colab_type": "text"
      },
      "cell_type": "markdown",
      "source": [
        "I will also try an LSTM Model. This one takes quite a long time, so feel free to skip it ;)\n",
        "\n",
        "An LSTM model, or Long Short Term Memory, is a special kind of neural network, which operates on the premis of a so called Cell State. It essentially retains information from previous epochs in a larger degree than other networks. This is quite effective in theory, but it's also quite slow in comparison to the other models i try in this assignment.\n",
        "\n",
        "As you can see in the code, we once again define an Embedding layer, this time limiting the features of each vector to 1000. As in other models, the output layers will contain 3 nodes, since that is the amount of authors we want to predict for."
      ]
    },
    {
      "metadata": {
        "id": "h6wiNQ4c8pFm",
        "colab_type": "code",
        "colab": {}
      },
      "cell_type": "code",
      "source": [
        "input_shape = train_text.shape\n",
        "#input_shape = train_text.shape\n",
        "def lstm_model(input_shape, max_features=1000, optimizer='adam'):\n",
        "  model = Sequential()\n",
        "  model.add(Embedding(max_features, 128))\n",
        "  model.add(LSTM(128, dropout=0.2, recurrent_dropout=0.2, input_shape=input_shape))\n",
        "  model.add(Dense(3, activation='sigmoid'))\n",
        "  \n",
        "  # try using different optimizers and different optimizer configs\n",
        "  model.compile(loss='categorical_crossentropy', optimizer='adam', metrics=['accuracy'])\n",
        "  \n",
        "  return model"
      ],
      "execution_count": 0,
      "outputs": []
    },
    {
      "metadata": {
        "id": "CvqFzLx8e9-P",
        "colab_type": "code",
        "colab": {}
      },
      "cell_type": "code",
      "source": [
        "model_lstm = lstm_model(input_shape)"
      ],
      "execution_count": 0,
      "outputs": []
    },
    {
      "metadata": {
        "id": "OKWM8ECm1BQM",
        "colab_type": "text"
      },
      "cell_type": "markdown",
      "source": [
        "Alright, I will now fit the model on the training data. In this particular case I chose 5 epochs because the model in quite slow, and I increased the batch size to 64. This also speeds the model up, but might have an impact on the accuracy."
      ]
    },
    {
      "metadata": {
        "id": "rkmyJwCnjOfB",
        "colab_type": "code",
        "colab": {
          "base_uri": "https://localhost:8080/",
          "height": 170
        },
        "outputId": "66aca8fb-cf24-4285-f9a9-3b358d52b500"
      },
      "cell_type": "code",
      "source": [
        "epochs = 5\n",
        "\n",
        "hist_lstm = model_lstm.fit(x_train, y_train, batch_size=64, validation_data=(x_test, y_test), epochs=epochs, callbacks=[EarlyStopping(patience=2, monitor='val_loss')])"
      ],
      "execution_count": 86,
      "outputs": [
        {
          "output_type": "stream",
          "text": [
            "Train on 15663 samples, validate on 3916 samples\n",
            "Epoch 1/5\n",
            "15663/15663 [==============================] - 178s 11ms/step - loss: 0.8783 - acc: 0.5959 - val_loss: 0.6966 - val_acc: 0.7079\n",
            "Epoch 2/5\n",
            "15663/15663 [==============================] - 177s 11ms/step - loss: 0.6384 - acc: 0.7426 - val_loss: 0.6381 - val_acc: 0.7298\n",
            "Epoch 3/5\n",
            "15663/15663 [==============================] - 178s 11ms/step - loss: 0.8041 - acc: 0.6423 - val_loss: 0.7743 - val_acc: 0.6599\n",
            "Epoch 4/5\n",
            "15663/15663 [==============================] - 179s 11ms/step - loss: 0.7579 - acc: 0.6722 - val_loss: 0.8034 - val_acc: 0.6448\n"
          ],
          "name": "stdout"
        }
      ]
    },
    {
      "metadata": {
        "id": "wIT4hkJS1W2M",
        "colab_type": "text"
      },
      "cell_type": "markdown",
      "source": [
        "I will once again plot the results."
      ]
    },
    {
      "metadata": {
        "id": "-tpPfPLXVZTH",
        "colab_type": "code",
        "colab": {
          "base_uri": "https://localhost:8080/",
          "height": 735
        },
        "outputId": "19379121-7a37-4bd6-818a-271f8e09123e"
      },
      "cell_type": "code",
      "source": [
        "plot_history(hist_lstm)"
      ],
      "execution_count": 87,
      "outputs": [
        {
          "output_type": "display_data",
          "data": {
            "image/png": "[encoded data removed]",
            "text/plain": [
              "<matplotlib.figure.Figure at 0x7f99706a7940>"
            ]
          },
          "metadata": {
            "tags": []
          }
        },
        {
          "output_type": "display_data",
          "data": {
            "image/png": "[encoded data removed]",
            "text/plain": [
              "<matplotlib.figure.Figure at 0x7f996f6c7dd8>"
            ]
          },
          "metadata": {
            "tags": []
          }
        }
      ]
    },
    {
      "metadata": {
        "id": "vyoai3jO1Z57",
        "colab_type": "text"
      },
      "cell_type": "markdown",
      "source": [
        "The graph is quite inconsistent, but I think more epochs would probably solve this to some degree because it gets more time to train."
      ]
    },
    {
      "metadata": {
        "id": "wfw6BRWzJm0W",
        "colab_type": "text"
      },
      "cell_type": "markdown",
      "source": [
        "## Test"
      ]
    },
    {
      "metadata": {
        "id": "9yuP7ikkPPPa",
        "colab_type": "text"
      },
      "cell_type": "markdown",
      "source": [
        "Let's test one of the models on the test data! In this case I just use the fasttext model on the test data, because that was the best performing one.\n",
        "\n",
        "Like with the training data, we preprocess it.\n",
        "\n",
        "I also create a `pred` variable containing the prediction probabilities."
      ]
    },
    {
      "metadata": {
        "id": "A5i6Z0GgvCyi",
        "colab_type": "code",
        "colab": {}
      },
      "cell_type": "code",
      "source": [
        "test_text = preprocess(test_data)\n",
        "pred_fasttext = model_fasttext.predict_proba(test_text)\n",
        "pred_classes = np.argmax(pred_fasttext, axis=1)"
      ],
      "execution_count": 0,
      "outputs": []
    },
    {
      "metadata": {
        "id": "Un_1xFwu37GK",
        "colab_type": "code",
        "colab": {
          "base_uri": "https://localhost:8080/",
          "height": 136
        },
        "outputId": "b4be6ced-27cb-4411-9192-61fa1db0573d"
      },
      "cell_type": "code",
      "source": [
        "pred_fasttext"
      ],
      "execution_count": 89,
      "outputs": [
        {
          "output_type": "execute_result",
          "data": {
            "text/plain": [
              "array([[1.7793735e-02, 8.0136669e-01, 1.8083949e-01],\n",
              "       [8.6870921e-01, 1.3125956e-01, 3.1184270e-05],\n",
              "       [9.2982185e-01, 2.9999549e-02, 4.0178604e-02],\n",
              "       ...,\n",
              "       [5.0895731e-03, 9.9054748e-01, 4.3628979e-03],\n",
              "       [9.1613936e-01, 2.1669893e-02, 6.2190786e-02],\n",
              "       [7.5080350e-02, 5.9588808e-01, 3.2903156e-01]], dtype=float32)"
            ]
          },
          "metadata": {
            "tags": []
          },
          "execution_count": 89
        }
      ]
    },
    {
      "metadata": {
        "id": "uHlh3m0QGS4X",
        "colab_type": "text"
      },
      "cell_type": "markdown",
      "source": [
        "Alright, we have predicted the authors for the training data. However, how do we know which author is which in the result?\n",
        "\n",
        "We can find out by using the `pred_classes` array we made earlier. This contains the labels given by the labelencoder earlier, where each row has the label of the highest scoring author.\n",
        "\n",
        "Let's use labelencoder to revert the numeric representation to the original values."
      ]
    },
    {
      "metadata": {
        "id": "8CartCgJ_4-v",
        "colab_type": "code",
        "colab": {
          "base_uri": "https://localhost:8080/",
          "height": 68
        },
        "outputId": "c7a6977e-9577-4c3b-c4b6-c4d77750d85b"
      },
      "cell_type": "code",
      "source": [
        "labelencoder.inverse_transform(pred_classes)"
      ],
      "execution_count": 90,
      "outputs": [
        {
          "output_type": "stream",
          "text": [
            "/usr/local/lib/python3.6/dist-packages/sklearn/preprocessing/label.py:151: DeprecationWarning: The truth value of an empty array is ambiguous. Returning False, but in future this will result in an error. Use `array.size > 0` to check that an array is not empty.\n",
            "  if diff:\n"
          ],
          "name": "stderr"
        },
        {
          "output_type": "execute_result",
          "data": {
            "text/plain": [
              "array(['HPL', 'EAP', 'EAP', ..., 'HPL', 'EAP', 'HPL'], dtype=object)"
            ]
          },
          "metadata": {
            "tags": []
          },
          "execution_count": 90
        }
      ]
    },
    {
      "metadata": {
        "id": "VcC-BwX-HLDv",
        "colab_type": "text"
      },
      "cell_type": "markdown",
      "source": [
        "As we see, the highest scoring author on the first row is HPL, and on the second row it's EAP. Given this, and by looking at the results we printed earlier, the order of authors in the resulting scores are EAP, HPL and MWS.\n",
        "\n",
        "Let's insert the results in a new DataFrame."
      ]
    },
    {
      "metadata": {
        "id": "ZNIlJXCE7F1I",
        "colab_type": "code",
        "colab": {}
      },
      "cell_type": "code",
      "source": [
        "def save_results(pred):\n",
        "  result = pd.DataFrame(pred, columns=['EAP','HPL','MWS'])\n",
        "  result.insert(0, 'id', test_data['id'])\n",
        "  result.head(20)\n",
        "  \n",
        "  return result"
      ],
      "execution_count": 0,
      "outputs": []
    },
    {
      "metadata": {
        "id": "6eJDIvGzH2-C",
        "colab_type": "text"
      },
      "cell_type": "markdown",
      "source": [
        "Lastly, we'll save the results to a CSV-file for submission."
      ]
    },
    {
      "metadata": {
        "id": "KW6xqmfrDw2Q",
        "colab_type": "code",
        "colab": {}
      },
      "cell_type": "code",
      "source": [
        "result = save_results(pred_fasttext)\n",
        "result.to_csv('submission_fasttext.csv', index=False)"
      ],
      "execution_count": 0,
      "outputs": []
    },
    {
      "metadata": {
        "id": "47EdH22JdF3X",
        "colab_type": "text"
      },
      "cell_type": "markdown",
      "source": [
        "## Different preprocessing approach"
      ]
    },
    {
      "metadata": {
        "id": "X_JKKcHA2q-D",
        "colab_type": "text"
      },
      "cell_type": "markdown",
      "source": [
        "For now, I have pretty much used the default Keras tokenizer. I will now try a different approach by manually processing each sentence.\n",
        "\n",
        "The first function will take all of the special characters in a sentence, and put a space on each side of them, thus treating them as a seperate word when we later tokenize it. This allows the model to also account for different use of these characters by each author."
      ]
    },
    {
      "metadata": {
        "id": "fl7dpe_DdMDx",
        "colab_type": "code",
        "colab": {}
      },
      "cell_type": "code",
      "source": [
        "def preprocess(text):\n",
        "  # Split the ' character from words, effectively treating it as a separate word.\n",
        "  text = text.replace(\"' \", \" ' \")\n",
        "  # Create a set containing the characters we want to filter out\n",
        "  signs = set(',.:;\"?!')\n",
        "  # Define an intersection of our text and the characters. This will contain all words where these characters are present at the beginning or the end\n",
        "  prods = set(text) & signs\n",
        "  # If the prods variable is empty, just return the text since we don't need to do anything else\n",
        "  if not prods:\n",
        "      return text\n",
        "  # For every character in the prods set, replace the character by itself, but with a space on each side of it, thus treatig it as a seperate word when we tokenize it\n",
        "  for sign in prods:\n",
        "    text = text.replace(sign, ' {} '.format(sign) )\n",
        "    \n",
        "  return text"
      ],
      "execution_count": 0,
      "outputs": []
    },
    {
      "metadata": {
        "id": "ub340qr65k58",
        "colab_type": "text"
      },
      "cell_type": "markdown",
      "source": [
        "In my second function, I generate the list of sentences, this time with added n-grams (more specifically bi-grams in my case). For each sentence, I preprocess it and add bigrams. This makes the sentences more trainable."
      ]
    },
    {
      "metadata": {
        "id": "mDa9zxipdYIz",
        "colab_type": "code",
        "colab": {}
      },
      "cell_type": "code",
      "source": [
        "def create_sentence_list(df, n_gram_max=2):\n",
        "  def add_ngram(q, n_gram_max):\n",
        "    ngrams = []\n",
        "    for n in range(2, n_gram_max+1):\n",
        "      for w_index in range(len(q)-n+1):\n",
        "        ngrams.append('--'.join(q[w_index:w_index+n]))\n",
        "        return q + ngrams\n",
        "      \n",
        "  # Let's create a new list called docs\n",
        "  docs = []\n",
        "  # Here, I do a for loop, looping over each text row in the dataset\n",
        "  for doc in df.text:\n",
        "    # I use the preprocess function defined above on the current row, and then split the text into a new list\n",
        "    doc = preprocess(doc).split()\n",
        "    # Lastly, I add the ngrams to the preprocessed text, and append the result to the docs list\n",
        "    docs.append(' '.join(add_ngram(doc, n_gram_max)))\n",
        "        \n",
        "  return docs"
      ],
      "execution_count": 0,
      "outputs": []
    },
    {
      "metadata": {
        "id": "o0JewlKH7NJd",
        "colab_type": "text"
      },
      "cell_type": "markdown",
      "source": [
        "Lastly, I use the Keras tokenizer once again, but this time on my manually preprocessed text. Also please notice that I set the filters to be empty, thereby preventing it to remove the characters I have just split from the words."
      ]
    },
    {
      "metadata": {
        "id": "JbLBrr5pd5q3",
        "colab_type": "code",
        "colab": {}
      },
      "cell_type": "code",
      "source": [
        "def tokenize_data(data):\n",
        "  sentence_list = create_sentence_list(data)\n",
        "  tokenizer = Tokenizer(lower=False, filters='')\n",
        "  tokenizer.fit_on_texts(sentence_list)\n",
        "  num_words = sum([1 for _, v in tokenizer.word_counts.items() if v >= 2])\n",
        "\n",
        "  tokenizer = Tokenizer(num_words=num_words, lower=False, filters='')\n",
        "  tokenizer.fit_on_texts(sentence_list)\n",
        "  sentence_list = tokenizer.texts_to_sequences(sentence_list)\n",
        "\n",
        "  sentence_list = pad_sequences(sequences=sentence_list, maxlen=256)\n",
        "  \n",
        "  return sentence_list"
      ],
      "execution_count": 0,
      "outputs": []
    },
    {
      "metadata": {
        "id": "eKXygFvn7m9u",
        "colab_type": "text"
      },
      "cell_type": "markdown",
      "source": [
        "Finally, I use the three functions I have created above on the actual training data. The `tokenize_data` function uses the `create_sentence_list` function, which lastly uses the `preprocess` function, so they are all used in the definition below."
      ]
    },
    {
      "metadata": {
        "id": "kSTt5VpcvNnL",
        "colab_type": "code",
        "colab": {}
      },
      "cell_type": "code",
      "source": [
        "sentence_list = tokenize_data(train_data)"
      ],
      "execution_count": 0,
      "outputs": []
    },
    {
      "metadata": {
        "id": "CVHY-dYRexCV",
        "colab_type": "code",
        "colab": {}
      },
      "cell_type": "code",
      "source": [
        "input_dim = np.max(sentence_list) + 1\n",
        "embedding_dims = 20"
      ],
      "execution_count": 0,
      "outputs": []
    },
    {
      "metadata": {
        "id": "B2mTZ_lx8IJD",
        "colab_type": "text"
      },
      "cell_type": "markdown",
      "source": [
        "Alright, let's train the network! Once again I use 25 epochs, but with EarlyStopping to prevent it running for too long and overfitting too much."
      ]
    },
    {
      "metadata": {
        "id": "ENbM4xziezxW",
        "colab_type": "code",
        "colab": {
          "base_uri": "https://localhost:8080/",
          "height": 748
        },
        "outputId": "f0333284-03fb-4592-dd7e-a19fdc79b38e"
      },
      "cell_type": "code",
      "source": [
        "epochs = 25\n",
        "\n",
        "x_train, x_test, y_train, y_test = train_test_split(sentence_list, y, test_size=0.2)\n",
        "\n",
        "model_fasttext_new = fasttext_model(input_dim)\n",
        "\n",
        "hist_fasttext_new = model_fasttext_new.fit(x_train, y_train, batch_size=16, validation_data=(x_test, y_test), epochs=epochs, callbacks=[EarlyStopping(patience=2, monitor='val_loss')])"
      ],
      "execution_count": 98,
      "outputs": [
        {
          "output_type": "stream",
          "text": [
            "Train on 15663 samples, validate on 3916 samples\n",
            "Epoch 1/25\n",
            "15663/15663 [==============================] - 7s 477us/step - loss: 1.0769 - acc: 0.4036 - val_loss: 1.0553 - val_acc: 0.4354\n",
            "Epoch 2/25\n",
            "15663/15663 [==============================] - 6s 398us/step - loss: 1.0091 - acc: 0.5017 - val_loss: 0.9572 - val_acc: 0.5258\n",
            "Epoch 3/25\n",
            "15663/15663 [==============================] - 6s 395us/step - loss: 0.8838 - acc: 0.6423 - val_loss: 0.8377 - val_acc: 0.7188\n",
            "Epoch 4/25\n",
            "15663/15663 [==============================] - 6s 397us/step - loss: 0.7594 - acc: 0.7412 - val_loss: 0.7369 - val_acc: 0.7551\n",
            "Epoch 5/25\n",
            "15663/15663 [==============================] - 6s 394us/step - loss: 0.6570 - acc: 0.7866 - val_loss: 0.6623 - val_acc: 0.7462\n",
            "Epoch 6/25\n",
            "15663/15663 [==============================] - 6s 397us/step - loss: 0.5780 - acc: 0.8128 - val_loss: 0.6044 - val_acc: 0.7781\n",
            "Epoch 7/25\n",
            "15663/15663 [==============================] - 6s 401us/step - loss: 0.5130 - acc: 0.8319 - val_loss: 0.5563 - val_acc: 0.8039\n",
            "Epoch 8/25\n",
            "15663/15663 [==============================] - 6s 399us/step - loss: 0.4589 - acc: 0.8502 - val_loss: 0.5210 - val_acc: 0.8166\n",
            "Epoch 9/25\n",
            "15663/15663 [==============================] - 6s 400us/step - loss: 0.4138 - acc: 0.8708 - val_loss: 0.4913 - val_acc: 0.8220\n",
            "Epoch 10/25\n",
            "15663/15663 [==============================] - 6s 399us/step - loss: 0.3735 - acc: 0.8832 - val_loss: 0.4658 - val_acc: 0.8304\n",
            "Epoch 11/25\n",
            "15663/15663 [==============================] - 6s 399us/step - loss: 0.3391 - acc: 0.8948 - val_loss: 0.4449 - val_acc: 0.8345\n",
            "Epoch 12/25\n",
            "15663/15663 [==============================] - 6s 401us/step - loss: 0.3084 - acc: 0.9065 - val_loss: 0.4293 - val_acc: 0.8417\n",
            "Epoch 13/25\n",
            "15663/15663 [==============================] - 6s 397us/step - loss: 0.2814 - acc: 0.9143 - val_loss: 0.4143 - val_acc: 0.8409\n",
            "Epoch 14/25\n",
            "15663/15663 [==============================] - 6s 397us/step - loss: 0.2581 - acc: 0.9217 - val_loss: 0.4009 - val_acc: 0.8447\n",
            "Epoch 15/25\n",
            "15663/15663 [==============================] - 6s 399us/step - loss: 0.2369 - acc: 0.9282 - val_loss: 0.3974 - val_acc: 0.8447\n",
            "Epoch 16/25\n",
            "15663/15663 [==============================] - 6s 397us/step - loss: 0.2172 - acc: 0.9370 - val_loss: 0.3917 - val_acc: 0.8427\n",
            "Epoch 17/25\n",
            "15663/15663 [==============================] - 6s 394us/step - loss: 0.2003 - acc: 0.9419 - val_loss: 0.3811 - val_acc: 0.8493\n",
            "Epoch 18/25\n",
            "15663/15663 [==============================] - 6s 402us/step - loss: 0.1849 - acc: 0.9459 - val_loss: 0.3730 - val_acc: 0.8521\n",
            "Epoch 19/25\n",
            "15663/15663 [==============================] - 6s 398us/step - loss: 0.1709 - acc: 0.9519 - val_loss: 0.3663 - val_acc: 0.8552\n",
            "Epoch 20/25\n",
            "15663/15663 [==============================] - 6s 400us/step - loss: 0.1589 - acc: 0.9551 - val_loss: 0.3696 - val_acc: 0.8539\n",
            "Epoch 21/25\n",
            "15663/15663 [==============================] - 6s 400us/step - loss: 0.1468 - acc: 0.9598 - val_loss: 0.3673 - val_acc: 0.8532\n"
          ],
          "name": "stdout"
        }
      ]
    },
    {
      "metadata": {
        "id": "BuV_TnA3gPyF",
        "colab_type": "code",
        "colab": {
          "base_uri": "https://localhost:8080/",
          "height": 735
        },
        "outputId": "8be717ec-8aa9-4824-e7c6-5c914c2ea51d"
      },
      "cell_type": "code",
      "source": [
        "plot_history(hist_fasttext_new)"
      ],
      "execution_count": 99,
      "outputs": [
        {
          "output_type": "display_data",
          "data": {
            "image/png": "[encoded data removed]",
            "text/plain": [
              "<matplotlib.figure.Figure at 0x7f996f637d68>"
            ]
          },
          "metadata": {
            "tags": []
          }
        },
        {
          "output_type": "display_data",
          "data": {
            "image/png": "[encoded data removed]",
            "text/plain": [
              "<matplotlib.figure.Figure at 0x7f99706a7630>"
            ]
          },
          "metadata": {
            "tags": []
          }
        }
      ]
    },
    {
      "metadata": {
        "id": "CbDSjGxGq3fb",
        "colab_type": "text"
      },
      "cell_type": "markdown",
      "source": [
        "This is a pretty great result! Let's try to apply it to the test data!\n",
        "\n",
        "### Test Data"
      ]
    },
    {
      "metadata": {
        "id": "e1UIFUoX9uUt",
        "colab_type": "text"
      },
      "cell_type": "markdown",
      "source": [
        "I do the same as above, creating my preproccesed data, this time with the test data."
      ]
    },
    {
      "metadata": {
        "id": "Noh5lSXKur6M",
        "colab_type": "code",
        "colab": {}
      },
      "cell_type": "code",
      "source": [
        "sentence_list_test = tokenize_data(test_data)"
      ],
      "execution_count": 0,
      "outputs": []
    },
    {
      "metadata": {
        "id": "qgvapUdQvmVs",
        "colab_type": "code",
        "colab": {}
      },
      "cell_type": "code",
      "source": [
        "input_dim_test = np.max(sentence_list_test) + 1\n",
        "embedding_dims = 20"
      ],
      "execution_count": 0,
      "outputs": []
    },
    {
      "metadata": {
        "id": "EYPsm6nWvtoB",
        "colab_type": "code",
        "colab": {}
      },
      "cell_type": "code",
      "source": [
        "pred_fasttext_new = model_fasttext_new.predict_proba(sentence_list_test)"
      ],
      "execution_count": 0,
      "outputs": []
    },
    {
      "metadata": {
        "id": "KeJhIXDEf45P",
        "colab_type": "code",
        "colab": {
          "base_uri": "https://localhost:8080/",
          "height": 136
        },
        "outputId": "e0bbf705-c263-49ba-95e9-b8708c842c58"
      },
      "cell_type": "code",
      "source": [
        "pred_fasttext_new"
      ],
      "execution_count": 103,
      "outputs": [
        {
          "output_type": "execute_result",
          "data": {
            "text/plain": [
              "array([[0.42261317, 0.07663284, 0.500754  ],\n",
              "       [0.17191972, 0.6642805 , 0.16379976],\n",
              "       [0.00489638, 0.02826327, 0.9668404 ],\n",
              "       ...,\n",
              "       [0.11056028, 0.27287367, 0.61656606],\n",
              "       [0.9681949 , 0.00484569, 0.02695943],\n",
              "       [0.7841938 , 0.1543639 , 0.06144232]], dtype=float32)"
            ]
          },
          "metadata": {
            "tags": []
          },
          "execution_count": 103
        }
      ]
    },
    {
      "metadata": {
        "id": "H4CVhnKtv-85",
        "colab_type": "text"
      },
      "cell_type": "markdown",
      "source": [
        "Looks good to me. I will now use the function I created earlier to save the results to a CSV file."
      ]
    },
    {
      "metadata": {
        "id": "krK4JBNPwOWO",
        "colab_type": "code",
        "colab": {}
      },
      "cell_type": "code",
      "source": [
        "result = save_results(pred_fasttext_new)\n",
        "result.to_csv('submission_fasttext_new.csv', index=False)"
      ],
      "execution_count": 0,
      "outputs": []
    },
    {
      "metadata": {
        "id": "Bh2Ccsd5WTC3",
        "colab_type": "text"
      },
      "cell_type": "markdown",
      "source": [
        "# Using Spacy instead of Keras Tokenizer"
      ]
    },
    {
      "metadata": {
        "id": "-8xOp3Zf-GhS",
        "colab_type": "text"
      },
      "cell_type": "markdown",
      "source": [
        "In the above, I pretty much just used the Keras tokenizer for preprocessing, lastly with some manual work. I will now try to use Spacy to do all of the preprocessing.\n",
        "\n",
        "First off, I import Spacy and download the model data for english."
      ]
    },
    {
      "metadata": {
        "id": "7O3ot3-sWUJb",
        "colab_type": "code",
        "colab": {}
      },
      "cell_type": "code",
      "source": [
        "import spacy"
      ],
      "execution_count": 0,
      "outputs": []
    },
    {
      "metadata": {
        "id": "i0hM4y0ZW6iZ",
        "colab_type": "code",
        "colab": {
          "base_uri": "https://localhost:8080/",
          "height": 153
        },
        "outputId": "1bd8ee8c-77dc-4d77-bf1e-513234996732"
      },
      "cell_type": "code",
      "source": [
        "!python -m spacy download en"
      ],
      "execution_count": 106,
      "outputs": [
        {
          "output_type": "stream",
          "text": [
            "Requirement already satisfied: en_core_web_sm==2.0.0 from https://github.com/explosion/spacy-models/releases/download/en_core_web_sm-2.0.0/en_core_web_sm-2.0.0.tar.gz#egg=en_core_web_sm==2.0.0 in /usr/local/lib/python3.6/dist-packages (2.0.0)\n",
            "\n",
            "\u001b[93m    Linking successful\u001b[0m\n",
            "    /usr/local/lib/python3.6/dist-packages/en_core_web_sm -->\n",
            "    /usr/local/lib/python3.6/dist-packages/spacy/data/en\n",
            "\n",
            "    You can now load the model via spacy.load('en')\n",
            "\n"
          ],
          "name": "stdout"
        }
      ]
    },
    {
      "metadata": {
        "id": "9TyxldaN-fU7",
        "colab_type": "text"
      },
      "cell_type": "markdown",
      "source": [
        "I'm now gonna load the english model."
      ]
    },
    {
      "metadata": {
        "id": "dsbYs1-YW1Su",
        "colab_type": "code",
        "colab": {}
      },
      "cell_type": "code",
      "source": [
        "nlp = spacy.load('en')"
      ],
      "execution_count": 0,
      "outputs": []
    },
    {
      "metadata": {
        "id": "s_9YPUgG-kEm",
        "colab_type": "text"
      },
      "cell_type": "markdown",
      "source": [
        "I use the map function of the DataFrame to convert each sentence to a vector using Spacy."
      ]
    },
    {
      "metadata": {
        "id": "NhIS39DzW5nd",
        "colab_type": "code",
        "colab": {}
      },
      "cell_type": "code",
      "source": [
        "train_text = train_data.text.map(lambda t: nlp(t).vector)"
      ],
      "execution_count": 0,
      "outputs": []
    },
    {
      "metadata": {
        "id": "Pz1lQM7MXaDQ",
        "colab_type": "code",
        "colab": {
          "base_uri": "https://localhost:8080/",
          "height": 119
        },
        "outputId": "6818e773-62c1-458a-96ef-25af0c521f9a"
      },
      "cell_type": "code",
      "source": [
        "train_text.head()"
      ],
      "execution_count": 109,
      "outputs": [
        {
          "output_type": "execute_result",
          "data": {
            "text/plain": [
              "0    [0.7991028, -0.004031174, 0.14975227, 1.126899...\n",
              "1    [0.29902083, -0.2551408, 0.48548406, 1.6784768...\n",
              "2    [0.39712566, 0.015796196, 0.3258409, 1.4247493...\n",
              "3    [0.54161054, 0.0051353606, 0.037804116, 0.4706...\n",
              "4    [0.2621837, -0.07247542, 0.33382383, 0.9815354...\n",
              "Name: text, dtype: object"
            ]
          },
          "metadata": {
            "tags": []
          },
          "execution_count": 109
        }
      ]
    },
    {
      "metadata": {
        "id": "F54s7dCv-1jC",
        "colab_type": "text"
      },
      "cell_type": "markdown",
      "source": [
        "And lastly, I stack the vector vertically to make it usable by my models."
      ]
    },
    {
      "metadata": {
        "id": "yPPSyu0ZaIJb",
        "colab_type": "code",
        "colab": {}
      },
      "cell_type": "code",
      "source": [
        "train_text = np.vstack(train_text)"
      ],
      "execution_count": 0,
      "outputs": []
    },
    {
      "metadata": {
        "id": "gnSJxEL96oOv",
        "colab_type": "code",
        "colab": {}
      },
      "cell_type": "code",
      "source": [
        "x_train, x_test, y_train, y_test = train_test_split(train_text, y, test_size=0.2)"
      ],
      "execution_count": 0,
      "outputs": []
    },
    {
      "metadata": {
        "id": "vJqefPjkXk5x",
        "colab_type": "code",
        "colab": {}
      },
      "cell_type": "code",
      "source": [
        "input_dim = train_text.shape[1]\n",
        "model_mlp = mlp_model(input_dim)"
      ],
      "execution_count": 0,
      "outputs": []
    },
    {
      "metadata": {
        "id": "coK3Al5c_DnX",
        "colab_type": "text"
      },
      "cell_type": "markdown",
      "source": [
        "The first model I will test my preprocessed data with, is the first one I used, the MLP model."
      ]
    },
    {
      "metadata": {
        "id": "VGMccDE5YCQB",
        "colab_type": "code",
        "colab": {
          "base_uri": "https://localhost:8080/",
          "height": 340
        },
        "outputId": "4d543199-0040-4f04-cfe5-2668996910a2"
      },
      "cell_type": "code",
      "source": [
        "epochs = 25\n",
        "\n",
        "hist_mlp_spacy = model_mlp.fit(x_train, y_train, batch_size=16, validation_data=(x_test, y_test), epochs=epochs, callbacks=[EarlyStopping(patience=2, monitor='val_loss')])"
      ],
      "execution_count": 113,
      "outputs": [
        {
          "output_type": "stream",
          "text": [
            "Train on 15663 samples, validate on 3916 samples\n",
            "Epoch 1/25\n",
            "15663/15663 [==============================] - 11s 694us/step - loss: 0.9480 - acc: 0.5598 - val_loss: 0.8360 - val_acc: 0.6195\n",
            "Epoch 2/25\n",
            "15663/15663 [==============================] - 9s 598us/step - loss: 0.8376 - acc: 0.6280 - val_loss: 0.8030 - val_acc: 0.6435\n",
            "Epoch 3/25\n",
            "15663/15663 [==============================] - 9s 598us/step - loss: 0.8015 - acc: 0.6536 - val_loss: 0.7829 - val_acc: 0.6606\n",
            "Epoch 4/25\n",
            "15663/15663 [==============================] - 9s 600us/step - loss: 0.7715 - acc: 0.6661 - val_loss: 0.7711 - val_acc: 0.6675\n",
            "Epoch 5/25\n",
            "15663/15663 [==============================] - 9s 600us/step - loss: 0.7547 - acc: 0.6797 - val_loss: 0.7466 - val_acc: 0.6834\n",
            "Epoch 6/25\n",
            "15663/15663 [==============================] - 9s 603us/step - loss: 0.7317 - acc: 0.6896 - val_loss: 0.8184 - val_acc: 0.6527\n",
            "Epoch 7/25\n",
            "15663/15663 [==============================] - 9s 603us/step - loss: 0.7157 - acc: 0.6960 - val_loss: 0.7101 - val_acc: 0.6923\n",
            "Epoch 8/25\n",
            "15663/15663 [==============================] - 9s 606us/step - loss: 0.7009 - acc: 0.7054 - val_loss: 0.7234 - val_acc: 0.6885\n",
            "Epoch 9/25\n",
            "15663/15663 [==============================] - 9s 599us/step - loss: 0.6931 - acc: 0.7109 - val_loss: 0.7135 - val_acc: 0.6900\n"
          ],
          "name": "stdout"
        }
      ]
    },
    {
      "metadata": {
        "id": "pejbYe-ogZfZ",
        "colab_type": "code",
        "colab": {
          "base_uri": "https://localhost:8080/",
          "height": 735
        },
        "outputId": "a46f211c-20bb-4704-94f6-0f3b87767c08"
      },
      "cell_type": "code",
      "source": [
        "plot_history(hist_mlp_spacy)"
      ],
      "execution_count": 114,
      "outputs": [
        {
          "output_type": "display_data",
          "data": {
            "image/png": "[encoded data removed]",
            "text/plain": [
              "<matplotlib.figure.Figure at 0x7f997ca5a828>"
            ]
          },
          "metadata": {
            "tags": []
          }
        },
        {
          "output_type": "display_data",
          "data": {
            "image/png": "[encoded data removed]",
            "text/plain": [
              "<matplotlib.figure.Figure at 0x7f9975678be0>"
            ]
          },
          "metadata": {
            "tags": []
          }
        }
      ]
    },
    {
      "metadata": {
        "id": "nOxIDBE3_Lw0",
        "colab_type": "text"
      },
      "cell_type": "markdown",
      "source": [
        "The result here is not too bad at all! Next up, let's try with fasttext which performed great before."
      ]
    },
    {
      "metadata": {
        "id": "egR71cpfTHkV",
        "colab_type": "code",
        "colab": {
          "base_uri": "https://localhost:8080/",
          "height": 306
        },
        "outputId": "b40f30f9-9b1b-4e6e-ea89-5871b3e48f30"
      },
      "cell_type": "code",
      "source": [
        "model_fasttext = fasttext_model(input_dim)\n",
        "hist_fasttext_spacy = model_fasttext.fit(x_train, y_train, batch_size=16, validation_data=(x_test, y_test), epochs=epochs, callbacks=[EarlyStopping(patience=2, monitor='val_loss')])"
      ],
      "execution_count": 115,
      "outputs": [
        {
          "output_type": "stream",
          "text": [
            "Train on 15663 samples, validate on 3916 samples\n",
            "Epoch 1/25\n",
            "15663/15663 [==============================] - 7s 468us/step - loss: 1.0877 - acc: 0.4033 - val_loss: 1.0894 - val_acc: 0.3943\n",
            "Epoch 2/25\n",
            "15663/15663 [==============================] - 6s 379us/step - loss: 1.0861 - acc: 0.4058 - val_loss: 1.0909 - val_acc: 0.3943\n",
            "Epoch 3/25\n",
            "15663/15663 [==============================] - 6s 379us/step - loss: 1.0847 - acc: 0.4059 - val_loss: 1.0870 - val_acc: 0.3943\n",
            "Epoch 4/25\n",
            "15663/15663 [==============================] - 6s 382us/step - loss: 1.0829 - acc: 0.4057 - val_loss: 1.0854 - val_acc: 0.3943\n",
            "Epoch 5/25\n",
            "15663/15663 [==============================] - 6s 378us/step - loss: 1.0811 - acc: 0.4075 - val_loss: 1.0838 - val_acc: 0.3943\n",
            "Epoch 6/25\n",
            "15663/15663 [==============================] - 6s 381us/step - loss: 1.0796 - acc: 0.4072 - val_loss: 1.0824 - val_acc: 0.3963\n",
            "Epoch 7/25\n",
            "15663/15663 [==============================] - 6s 381us/step - loss: 1.0788 - acc: 0.4109 - val_loss: 1.0845 - val_acc: 0.3958\n",
            "Epoch 8/25\n",
            "15663/15663 [==============================] - 6s 381us/step - loss: 1.0788 - acc: 0.4111 - val_loss: 1.0825 - val_acc: 0.3996\n"
          ],
          "name": "stdout"
        }
      ]
    },
    {
      "metadata": {
        "id": "ew1Obth8gcmH",
        "colab_type": "code",
        "colab": {
          "base_uri": "https://localhost:8080/",
          "height": 735
        },
        "outputId": "63527bd7-e2c6-4869-becf-193049136469"
      },
      "cell_type": "code",
      "source": [
        "plot_history(hist_fasttext_spacy)"
      ],
      "execution_count": 116,
      "outputs": [
        {
          "output_type": "display_data",
          "data": {
            "image/png": "[encoded data removed]",
            "text/plain": [
              "<matplotlib.figure.Figure at 0x7f99754e4518>"
            ]
          },
          "metadata": {
            "tags": []
          }
        },
        {
          "output_type": "display_data",
          "data": {
            "image/png": "[encoded data removed]",
            "text/plain": [
              "<matplotlib.figure.Figure at 0x7f99755079e8>"
            ]
          },
          "metadata": {
            "tags": []
          }
        }
      ]
    },
    {
      "metadata": {
        "id": "CaO6nqWK_Ry4",
        "colab_type": "text"
      },
      "cell_type": "markdown",
      "source": [
        "It did much worse this time. Might be because of the way Spacy processes the text, I am not completely sure."
      ]
    },
    {
      "metadata": {
        "id": "XRdkX0YQWOMC",
        "colab_type": "text"
      },
      "cell_type": "markdown",
      "source": [
        "## Test data"
      ]
    },
    {
      "metadata": {
        "id": "3IGuqLUEADob",
        "colab_type": "text"
      },
      "cell_type": "markdown",
      "source": [
        "I will now apply the Spacy preprocessor to the test data. Since the MLP model performed best with this data, I will create the submission file with that model.\n",
        "\n",
        "The approach is exactly the same as with the training data."
      ]
    },
    {
      "metadata": {
        "id": "oy21060HVXca",
        "colab_type": "code",
        "colab": {}
      },
      "cell_type": "code",
      "source": [
        "test_text = test_data.text.map(lambda t: nlp(t).vector)"
      ],
      "execution_count": 0,
      "outputs": []
    },
    {
      "metadata": {
        "id": "RjznTVGbWEqB",
        "colab_type": "code",
        "colab": {}
      },
      "cell_type": "code",
      "source": [
        "test_text = np.vstack(test_text)"
      ],
      "execution_count": 0,
      "outputs": []
    },
    {
      "metadata": {
        "id": "bVIkgY3CWrU_",
        "colab_type": "code",
        "colab": {}
      },
      "cell_type": "code",
      "source": [
        "pred = model_mlp.predict_proba(test_text)"
      ],
      "execution_count": 0,
      "outputs": []
    },
    {
      "metadata": {
        "id": "OI7HU8RbWo8c",
        "colab_type": "code",
        "colab": {}
      },
      "cell_type": "code",
      "source": [
        "result = save_results(pred)\n",
        "result.to_csv('submission_spacy.csv', index=False)"
      ],
      "execution_count": 0,
      "outputs": []
    },
    {
      "metadata": {
        "id": "22tjZQjzk1VM",
        "colab_type": "text"
      },
      "cell_type": "markdown",
      "source": [
        "# Conclusion"
      ]
    },
    {
      "metadata": {
        "id": "nH0HMFYqlEEd",
        "colab_type": "text"
      },
      "cell_type": "markdown",
      "source": [
        "Exploring the sentences with the different models and preprocessing approaches was very interesting! Some models did better than others, but what surprised me the most was the effect that different preprocessing techniques have on the results. It also seems that some models react better or worse to specific types of processing.\n",
        "\n",
        "More specifically, removing special characters seems to have an effect over not doing so. I assume this is because different authors have different ways to place characters in their sentences.\n",
        "\n",
        "I could also have\n",
        "\n",
        "Closing off, since the FastText model with the revised preprocessing did the best, I will rename that to submission.csv as my primary result."
      ]
    },
    {
      "metadata": {
        "id": "3wUalw0sk5Ua",
        "colab_type": "code",
        "colab": {}
      },
      "cell_type": "code",
      "source": [
        "!mv submission_fasttext_new.csv submission.csv"
      ],
      "execution_count": 0,
      "outputs": []
    },
    {
      "metadata": {
        "id": "7w0tez1jhG-k",
        "colab_type": "text"
      },
      "cell_type": "markdown",
      "source": [
        "![We did it!](https://i.giphy.com/media/l3vRaWnqG3gOZ8lsk/giphy.webp)<<"
      ]
    }
  ]
}